{
 "cells": [
  {
   "cell_type": "markdown",
   "id": "411fb6fe",
   "metadata": {},
   "source": [
    "# Deploy Fine-tuned GPT-J-6B on SageMaker hosting with Deepspeed\n"
   ]
  },
  {
   "cell_type": "markdown",
   "id": "37683c0d",
   "metadata": {},
   "source": [
    "## Set model location \n",
    "Here you set the S3 location of the model we fine-tuned in the previous notebook. \n",
    "\n"
   ]
  },
  {
   "cell_type": "code",
   "execution_count": null,
   "id": "28b6b7a7",
   "metadata": {},
   "outputs": [],
   "source": [
    "import sagemaker \n",
    "\n",
    "sagemaker_session = sagemaker.Session()\n",
    "\n",
    "bucket = sagemaker_session.default_bucket() # Set a default S3 bucket\n",
    "\n",
    "account = sagemaker_session.boto_session.client('sts').get_caller_identity()['Account']\n",
    "region = sagemaker_session.boto_session.region_name\n",
    "\n",
    "\n",
    "model_s3_uri= f\"s3://{bucket}/fine-tune-GPTJ/checkpoint/checkpoint-120/\""
   ]
  },
  {
   "cell_type": "code",
   "execution_count": null,
   "id": "0d6ea896",
   "metadata": {},
   "outputs": [],
   "source": [
    "!aws s3 ls $model_s3_uri"
   ]
  },
  {
   "cell_type": "markdown",
   "id": "3b0904a9-a536-4676-8dfd-0c377c396885",
   "metadata": {},
   "source": [
    "Remove checkpoints from model artifacts `global_step<StepNumber>`\n"
   ]
  },
  {
   "cell_type": "code",
   "execution_count": null,
   "id": "fab4f29c",
   "metadata": {},
   "outputs": [],
   "source": [
    "!aws s3 rm $model_s3_uri/global_step120/ --recursive "
   ]
  },
  {
   "cell_type": "markdown",
   "id": "cb96aa69",
   "metadata": {},
   "source": [
    "## Prepare docker image"
   ]
  },
  {
   "cell_type": "markdown",
   "id": "7e1939c8",
   "metadata": {},
   "source": [
    "We have a `build.sh` bash script which builds the container and a `push_to_ecr.sh` script that will push the image to ECR.\n"
   ]
  },
  {
   "cell_type": "code",
   "execution_count": null,
   "id": "9d26fa4a",
   "metadata": {},
   "outputs": [],
   "source": [
    "%%sh\n",
    "cd ../Deploy_GPTJ/\n",
    "./build.sh gptj-inference-endpoint"
   ]
  },
  {
   "cell_type": "code",
   "execution_count": null,
   "id": "010bb958",
   "metadata": {},
   "outputs": [],
   "source": [
    "%%sh\n",
    "cd ../Deploy_GPTJ/\n",
    "chmod +x push_to_ecr.sh\n",
    "./push_to_ecr.sh gptj-inference-endpoint"
   ]
  },
  {
   "cell_type": "markdown",
   "id": "445fea66",
   "metadata": {},
   "source": [
    "First, this script will push your image to ECR. For reference later, note the address of the repository that the container is pushed to. It should appear below the line `Login Succeeded` in the output from the call to `push_to_ecr.sh`."
   ]
  },
  {
   "cell_type": "markdown",
   "id": "986f7fd1",
   "metadata": {},
   "source": [
    "# Inference"
   ]
  },
  {
   "cell_type": "markdown",
   "id": "850ca85f",
   "metadata": {},
   "source": [
    "Now, you can deploy your endpoint as follows:"
   ]
  },
  {
   "cell_type": "markdown",
   "id": "54d77302",
   "metadata": {},
   "source": [
    "### Initialize configuration variables\n",
    "\n",
    "If you run into the error that endpoint already exists on a rerun, please change the model_name and endpoint_name. "
   ]
  },
  {
   "cell_type": "code",
   "execution_count": null,
   "id": "0bf66430",
   "metadata": {},
   "outputs": [],
   "source": [
    "import sagemaker\n",
    "from sagemaker.model import Model\n",
    "from sagemaker.predictor import RealTimePredictor\n",
    "import time \n",
    "\n",
    "role = sagemaker.get_execution_role()\n",
    "\n",
    "# Specify path to gptj-inference-endpoint image in ECR\n",
    "image = '{}.dkr.ecr.{}.amazonaws.com/gptj-inference-endpoint:latest'.format(account, region)\n",
    "\n",
    "# Specify sagemaker model_name\n",
    "sm_model_name = \"gptj-completion-gpu-test\"\n",
    "\n",
    "# Specify endpoint_name\n",
    "endpoint_name = \"gptj-completion-gpu-test\"\n",
    "\n",
    "# Specify instance_type\n",
    "instance_type = 'ml.g4dn.2xlarge'\n",
    "\n",
    "# Specify initial_instance_count\n",
    "initial_instance_count = 1\n"
   ]
  },
  {
   "cell_type": "markdown",
   "id": "ec7a1226",
   "metadata": {},
   "source": [
    "### 4.2 Initialize endpoint"
   ]
  },
  {
   "cell_type": "code",
   "execution_count": null,
   "id": "5ca4caeb",
   "metadata": {},
   "outputs": [],
   "source": [
    "sm_model = Model(\n",
    "                        image_uri = image,\n",
    "                        role = role,\n",
    "                         env={\"S3_MODEL_LOCATION\":model_s3_uri},\n",
    "                        predictor_cls=RealTimePredictor,\n",
    "                        name = sm_model_name)\n",
    "\n",
    "predictor = sm_model.deploy(\n",
    "        instance_type=instance_type,\n",
    "        initial_instance_count=1,\n",
    "        endpoint_name = endpoint_name\n",
    ")"
   ]
  },
  {
   "cell_type": "markdown",
   "id": "542bef7d",
   "metadata": {},
   "source": [
    "### Query model"
   ]
  },
  {
   "cell_type": "markdown",
   "id": "1fdc508d",
   "metadata": {},
   "source": [
    "To query your endpoint, you can use the code below. \n"
   ]
  },
  {
   "cell_type": "markdown",
   "id": "89b0dbe2",
   "metadata": {},
   "source": [
    "#### Initialize SageMaker Run-time client "
   ]
  },
  {
   "cell_type": "code",
   "execution_count": null,
   "id": "14a4822d",
   "metadata": {},
   "outputs": [],
   "source": [
    "import boto3\n",
    "import json \n",
    "\n",
    "# Get the boto3 session and sagemaker client, as well as the current execution role\n",
    "sess = boto3.Session()\n",
    "\n",
    "# Specify your AWS Region\n",
    "aws_region=sess.region_name\n",
    "\n",
    "\n",
    "# Create a low-level client representing Amazon SageMaker Runtime\n",
    "sagemaker_runtime = boto3.client(\"sagemaker-runtime\", region_name=aws_region)"
   ]
  },
  {
   "cell_type": "code",
   "execution_count": null,
   "id": "d57c98b9",
   "metadata": {},
   "outputs": [],
   "source": [
    "%%time\n",
    "\n",
    "text = \"love: \"\n",
    "\n",
    "parameters = {\n",
    "    \"do_sample\": True,\n",
    "    \"temperature\": 0.7,\n",
    "    \"max_new_tokens\":200,\n",
    "    \"min_tokens\": 100,\n",
    "    \"repetition_penalty\": 1.1,\n",
    "    \"top_p\": 500,\n",
    "    }\n",
    "\n",
    "data = {\n",
    "    \"inputs\": {\n",
    "        \"text_inputs\": text,\n",
    "        \"parameters\": parameters\n",
    "    }\n",
    "}\n",
    "\n",
    "\n",
    "body = json.dumps(data)\n",
    "\n",
    "\n",
    "response = sagemaker_runtime.invoke_endpoint( \n",
    "        EndpointName=endpoint_name, \n",
    "        Body = body, \n",
    "        ContentType = 'application/json'\n",
    ")"
   ]
  },
  {
   "cell_type": "code",
   "execution_count": null,
   "id": "8055054b-1691-4209-994e-08beddd3538a",
   "metadata": {},
   "outputs": [],
   "source": [
    "response"
   ]
  }
 ],
 "metadata": {
  "kernelspec": {
   "display_name": "conda_pytorch_p39",
   "language": "python",
   "name": "conda_pytorch_p39"
  },
  "language_info": {
   "codemirror_mode": {
    "name": "ipython",
    "version": 3
   },
   "file_extension": ".py",
   "mimetype": "text/x-python",
   "name": "python",
   "nbconvert_exporter": "python",
   "pygments_lexer": "ipython3",
   "version": "3.9.13"
  }
 },
 "nbformat": 4,
 "nbformat_minor": 5
}
